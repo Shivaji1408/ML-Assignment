{
 "cells": [
  {
   "cell_type": "markdown",
   "id": "a80a1447",
   "metadata": {},
   "source": [
    "# NumPy Assignment Questions"
   ]
  },
  {
   "cell_type": "markdown",
   "id": "4c06282c",
   "metadata": {},
   "source": [
    "#### Data Types & Attributes"
   ]
  },
  {
   "cell_type": "code",
   "execution_count": 1,
   "id": "f6ae99b4",
   "metadata": {},
   "outputs": [
    {
     "name": "stdout",
     "output_type": "stream",
     "text": [
      "Array: [0 1 2 3 4 5]\n",
      "Data type: int64\n"
     ]
    }
   ],
   "source": [
    "# 1. Create a NumPy array arr of integers from 0 to 5 and print its data type.\n",
    "\n",
    "import numpy as np\n",
    "\n",
    "arr = np.array([0, 1, 2, 3, 4, 5])\n",
    "print(\"Array:\", arr)\n",
    "print(\"Data type:\", arr.dtype)\n"
   ]
  },
  {
   "cell_type": "code",
   "execution_count": null,
   "id": "e5cada8d",
   "metadata": {},
   "outputs": [],
   "source": [
    "# Q2. Given a NumPy array arr, check if its data type is float64.\n",
    "\n",
    "arr = np.array([1.0, 2.0, 3.0])  # Example array\n",
    "if arr.dtype == np.float64:\n",
    "    print(\"The array is of type float64.\")\n",
    "else:\n",
    "    print(\"The array is NOT of type float64.\")\n"
   ]
  },
  {
   "cell_type": "code",
   "execution_count": null,
   "id": "b5dcaa56",
   "metadata": {},
   "outputs": [],
   "source": [
    "# Q3. Create a NumPy array arr with a data type of complex128 containing three complex numbers.\n",
    "\n",
    "arr = np.array([1+2j, 3+4j, 5+6j], dtype=np.complex128)\n",
    "print(\"Complex array:\", arr)\n",
    "print(\"Data type:\", arr.dtype)\n"
   ]
  },
  {
   "cell_type": "code",
   "execution_count": null,
   "id": "63d3cfe1",
   "metadata": {},
   "outputs": [],
   "source": [
    "# Q4. Convert an existing NumPy array arr of integers to float32 data type.\n",
    "\n",
    "arr = np.array([1, 2, 3, 4, 5])\n",
    "float_arr = arr.astype(np.float32)\n",
    "print(\"Converted array:\", float_arr)\n",
    "print(\"New data type:\", float_arr.dtype)\n"
   ]
  },
  {
   "cell_type": "code",
   "execution_count": null,
   "id": "1c5d7fcc",
   "metadata": {},
   "outputs": [],
   "source": [
    "#  Q5. Given a NumPy array arr with float64 data type, convert it to float32 to reduce decimal precision.\n",
    "\n",
    "arr = np.array([1.23456789, 2.34567891], dtype=np.float64)\n",
    "reduced_precision_arr = arr.astype(np.float32)\n",
    "print(\"Original array:\", arr)\n",
    "print(\"Converted to float32:\", reduced_precision_arr)\n",
    "print(\"New data type:\", reduced_precision_arr.dtype)\n"
   ]
  },
  {
   "cell_type": "code",
   "execution_count": null,
   "id": "4379b859",
   "metadata": {},
   "outputs": [],
   "source": [
    "# Q6. Write a function array_attributes that takes a NumPy array as input and returns its shape, size, and data type.\n",
    "\n",
    "import numpy as np\n",
    "\n",
    "def array_attributes(arr):\n",
    "    return arr.shape, arr.size, arr.dtype\n",
    "\n",
    "a = np.array([[1, 2], [3, 4]])\n",
    "print(\"Shape, Size, Dtype:\", array_attributes(a))\n"
   ]
  },
  {
   "cell_type": "code",
   "execution_count": null,
   "id": "91aedf51",
   "metadata": {},
   "outputs": [],
   "source": [
    "# Q7. Create a function array_dimension that returns the dimensionality of a NumPy array.\n",
    "\n",
    "def array_dimension(arr):\n",
    "    return arr.ndim\n",
    "\n",
    "\n",
    "b = np.array([[1, 2, 3], [4, 5, 6]])\n",
    "print(\"Dimensions:\", array_dimension(b))\n"
   ]
  },
  {
   "cell_type": "code",
   "execution_count": null,
   "id": "03f9c3db",
   "metadata": {},
   "outputs": [],
   "source": [
    "# Q8. Design a function item_size_info that returns the item size and total size in bytes of a NumPy array.\n",
    "\n",
    "def item_size_info(arr):\n",
    "    return arr.itemsize, arr.nbytes\n",
    "\n",
    "c = np.array([10, 20, 30])\n",
    "print(\"Item size, Total size:\", item_size_info(c))\n"
   ]
  },
  {
   "cell_type": "code",
   "execution_count": null,
   "id": "cc96a856",
   "metadata": {},
   "outputs": [],
   "source": [
    "# Q9. Create a function array_strides that returns the strides of the given NumPy array.\n",
    "\n",
    "def array_strides(arr):\n",
    "    return arr.strides\n",
    "\n",
    "\n",
    "d = np.array([[1, 2], [3, 4]])\n",
    "print(\"Strides:\", array_strides(d))\n"
   ]
  },
  {
   "cell_type": "code",
   "execution_count": null,
   "id": "21f19404",
   "metadata": {},
   "outputs": [],
   "source": [
    "# Q10. Design a function shape_stride_relationship that returns the shape and strides of the given array.\n",
    "\n",
    "def shape_stride_relationship(arr):\n",
    "    return arr.shape, arr.strides\n",
    "\n",
    "e = np.array([[1, 2, 3], [4, 5, 6]])\n",
    "print(\"Shape and Strides:\", shape_stride_relationship(e))\n"
   ]
  },
  {
   "cell_type": "markdown",
   "id": "ba5d7013",
   "metadata": {},
   "source": [
    "#### Array Creation"
   ]
  },
  {
   "cell_type": "code",
   "execution_count": null,
   "id": "f5515957",
   "metadata": {},
   "outputs": [],
   "source": [
    "# Q11. Create a function create_zeros_array(n) to return a NumPy array of zeros with n elements.\n",
    "\n",
    "def create_zeros_array(n):\n",
    "    return np.zeros(n)\n",
    "\n",
    "print(create_zeros_array(5))\n"
   ]
  },
  {
   "cell_type": "code",
   "execution_count": null,
   "id": "ecf0c789",
   "metadata": {},
   "outputs": [],
   "source": [
    "# Q12. Write a function create_ones_matrix(rows, cols) to create a 2D array filled with ones.\n",
    "\n",
    "def create_ones_matrix(rows, cols):\n",
    "    return np.ones((rows, cols))\n",
    "\n",
    "print(create_ones_matrix(3, 4))\n",
    "\n"
   ]
  },
  {
   "cell_type": "code",
   "execution_count": null,
   "id": "b479d6b3",
   "metadata": {},
   "outputs": [],
   "source": [
    "# Q13. Write a function generate_range_array(start, stop, step) to create a ranged NumPy array.\n",
    "\n",
    "def generate_range_array(start, stop, step):\n",
    "    return np.arange(start, stop, step)\n",
    "\n",
    "print(generate_range_array(0, 10, 2))\n"
   ]
  },
  {
   "cell_type": "code",
   "execution_count": null,
   "id": "39f0ef14",
   "metadata": {},
   "outputs": [],
   "source": [
    "# Q14. Design a function generate_linear_space(start, stop, num) for equally spaced values.\n",
    "\n",
    "def generate_linear_space(start, stop, num):\n",
    "    return np.linspace(start, stop, num)\n",
    "\n",
    "print(generate_linear_space(0, 1, 5))\n"
   ]
  },
  {
   "cell_type": "code",
   "execution_count": null,
   "id": "1fce088c",
   "metadata": {},
   "outputs": [],
   "source": [
    "# Q15. Create a function create_identity_matrix(n) using numpy.eye.\n",
    "\n",
    "def create_identity_matrix(n):\n",
    "    return np.eye(n)\n",
    "\n",
    "print(create_identity_matrix(4))\n"
   ]
  },
  {
   "cell_type": "code",
   "execution_count": null,
   "id": "3d1336cb",
   "metadata": {},
   "outputs": [],
   "source": [
    "# Q16. Write a function that converts a Python list into a NumPy array.\n",
    "\n",
    "def list_to_array(lst):\n",
    "    return np.array(lst)\n",
    "\n",
    "print(list_to_array([1, 2, 3, 4]))\n"
   ]
  },
  {
   "cell_type": "code",
   "execution_count": null,
   "id": "e8015e20",
   "metadata": {},
   "outputs": [],
   "source": [
    "# Q17. Create a NumPy array and use numpy.view() to create a new view with the same data.\n",
    "\n",
    "arr = np.array([1, 2, 3, 4])\n",
    "view_arr = arr.view()\n",
    "print(\"Original:\", arr)\n",
    "print(\"View:\", view_arr)\n"
   ]
  },
  {
   "cell_type": "markdown",
   "id": "8bfb0285",
   "metadata": {},
   "source": [
    "#### Concatenation and Stacking\n"
   ]
  },
  {
   "cell_type": "code",
   "execution_count": null,
   "id": "4bee74f3",
   "metadata": {},
   "outputs": [],
   "source": [
    "# Q18. Write a function to concatenate two NumPy arrays along a specified axis.\n",
    "\n",
    "def concatenate_arrays(arr1, arr2, axis=0):\n",
    "    return np.concatenate((arr1, arr2), axis=axis)\n",
    "\n",
    "a1 = np.array([[1, 2], [3, 4]])\n",
    "a2 = np.array([[5, 6], [7, 8]])\n",
    "print(concatenate_arrays(a1, a2, axis=0))\n"
   ]
  },
  {
   "cell_type": "code",
   "execution_count": null,
   "metadata": {},
   "outputs": [],
   "source": [
    "# 19. Concatenate two arrays with different shapes horizontally using numpy.concatenate.\n",
    "\n",
    "arr1 = np.array([[1], [2], [3]])\n",
    "arr2 = np.array([[4, 5], [6, 7], [8, 9]])\n",
    "\n",
    "result = np.concatenate((arr1, arr2), axis=1)\n",
    "print(\"Concatenated Horizontally:\\n\", result)\n"
   ]
  },
  {
   "cell_type": "code",
   "execution_count": null,
   "id": "89171fdb",
   "metadata": {},
   "outputs": [],
   "source": [
    "# Q20. Vertically stack multiple arrays from a list using numpy.vstack.\n",
    "\n",
    "arrays = [np.array([1, 2]), np.array([3, 4]), np.array([5, 6])]\n",
    "stacked = np.vstack(arrays)\n",
    "print(\"Vertically Stacked Arrays:\\n\", stacked)\n"
   ]
  },
  {
   "cell_type": "markdown",
   "id": "52ec7fde",
   "metadata": {},
   "source": [
    "#### Array Generation\n"
   ]
  },
  {
   "cell_type": "code",
   "execution_count": null,
   "id": "ed6aa8ac",
   "metadata": {},
   "outputs": [],
   "source": [
    "# Q21. Write a function to generate an array of integers within a specified range (inclusive) with a step.\n",
    "\n",
    "def generate_integer_array(start, stop, step):\n",
    "    return np.arange(start, stop + 1, step)\n",
    "\n",
    "print(generate_integer_array(1, 10, 2))\n"
   ]
  },
  {
   "cell_type": "code",
   "execution_count": null,
   "id": "27760570",
   "metadata": {},
   "outputs": [],
   "source": [
    "# Q22. Generate 10 equally spaced values between 0 and 1 using NumPy.\n",
    "\n",
    "equally_spaced = np.linspace(0, 1, 10)\n",
    "print(\"Equally spaced values:\", equally_spaced)\n"
   ]
  },
  {
   "cell_type": "code",
   "execution_count": null,
   "id": "ab0a54f7",
   "metadata": {},
   "outputs": [],
   "source": [
    "#  Q23. Create 5 logarithmically spaced values between 1 and 1000.\n",
    "\n",
    "log_spaced = np.logspace(0, 3, 5)  # 10^0 to 10^3 → 1 to 1000\n",
    "print(\"Log-spaced values:\", log_spaced)\n"
   ]
  },
  {
   "cell_type": "code",
   "execution_count": null,
   "id": "a3fc1d06",
   "metadata": {},
   "outputs": [],
   "source": [
    "# Q24. Create a Pandas DataFrame from a NumPy array with 5 rows and 3 columns of random integers (1-100).\n",
    "\n",
    "import pandas as pd\n",
    "\n",
    "random_data = np.random.randint(1, 101, size=(5, 3))\n",
    "df = pd.DataFrame(random_data, columns=[\"A\", \"B\", \"C\"])\n",
    "print(\"Random DataFrame:\\n\", df)\n"
   ]
  },
  {
   "cell_type": "markdown",
   "id": "33a332c0",
   "metadata": {},
   "source": [
    "#### Pandas + NumPy"
   ]
  },
  {
   "cell_type": "code",
   "execution_count": null,
   "id": "770ac36f",
   "metadata": {},
   "outputs": [],
   "source": [
    "#  Q25. Write a function to replace all negative values in a specific column with zeros using NumPy.\n",
    "\n",
    "def replace_negatives_with_zero(df, column_name):\n",
    "    df[column_name] = np.where(df[column_name] < 0, 0, df[column_name])\n",
    "    return df\n",
    "\n",
    "\n",
    "data = {'A': [10, -5, 3, -2], 'B': [1, 2, 3, 4]}\n",
    "df = pd.DataFrame(data)\n",
    "print(\"Before:\\n\", df)\n",
    "print(\"After:\\n\", replace_negatives_with_zero(df, 'A'))\n"
   ]
  },
  {
   "cell_type": "markdown",
   "id": "cda4c275",
   "metadata": {},
   "source": [
    "#### Indexing and Slicing"
   ]
  },
  {
   "cell_type": "code",
   "execution_count": null,
   "id": "32d0ae85",
   "metadata": {},
   "outputs": [],
   "source": [
    "# Q26. Access the 3rd element from the given NumPy array.\n",
    "\n",
    "arr = np.array([10, 20, 30, 40, 50])\n",
    "print(\"3rd element:\", arr[2])\n"
   ]
  },
  {
   "cell_type": "code",
   "execution_count": null,
   "id": "d453c6e0",
   "metadata": {},
   "outputs": [],
   "source": [
    "# Q27. Retrieve the element at index (1, 2) from a 2D array.\n",
    "\n",
    "arr = np.array([[1, 2, 3], [4, 5, 6]])\n",
    "print(\"Element at (1,2):\", arr[1, 2])\n"
   ]
  },
  {
   "cell_type": "code",
   "execution_count": null,
   "id": "eef8a0ca",
   "metadata": {},
   "outputs": [],
   "source": [
    "# Q28. Extract elements greater than 5 using boolean indexing.\n",
    "\n",
    "arr = np.array([1, 6, 3, 9, 4])\n",
    "print(\"Elements > 5:\", arr[arr > 5])\n"
   ]
  },
  {
   "cell_type": "code",
   "execution_count": null,
   "id": "0f198461",
   "metadata": {},
   "outputs": [],
   "source": [
    "# Q29. Slice elements from index 2 to 5 (inclusive) from a NumPy array.\n",
    "\n",
    "arr = np.array([10, 20, 30, 40, 50, 60, 70])\n",
    "print(\"Slice 2 to 5:\", arr[2:6])\n"
   ]
  },
  {
   "cell_type": "code",
   "execution_count": null,
   "id": "30d9e504",
   "metadata": {},
   "outputs": [],
   "source": [
    "# Q30. Slice the sub-array [[2, 3], [5, 6]] from a 2D array.\n",
    "\n",
    "arr = np.array([[1, 2, 3],\n",
    "                [4, 5, 6],\n",
    "                [7, 8, 9]])\n",
    "print(arr[0:2, 1:3])\n"
   ]
  },
  {
   "cell_type": "markdown",
   "id": "987866f4",
   "metadata": {},
   "source": [
    "#### Advanced Indexing\n"
   ]
  },
  {
   "cell_type": "code",
   "execution_count": null,
   "id": "12ad10c0",
   "metadata": {},
   "outputs": [],
   "source": [
    "# Q31. Extract elements based on indices from a 2D array.\n",
    "\n",
    "arr = np.array([[10, 20], [30, 40], [50, 60]])\n",
    "indices = [0, 2]\n",
    "print(\"Rows at indices 0 and 2:\\n\", arr[indices])"
   ]
  },
  {
   "cell_type": "code",
   "execution_count": null,
   "id": "f690c5ae",
   "metadata": {},
   "outputs": [],
   "source": [
    "# Q32. Filter elements greater than a threshold using boolean indexing.\n",
    "arr = np.array([3, 7, 1, 9, 4])\n",
    "threshold = 5\n",
    "print(\"Greater than threshold:\", arr[arr > threshold])\n",
    "\n"
   ]
  },
  {
   "cell_type": "code",
   "execution_count": null,
   "id": "afd9711e",
   "metadata": {},
   "outputs": [],
   "source": [
    "# Q33. Extract specific elements from a 3D array using separate index arrays.\n",
    "\n",
    "arr = np.arange(27).reshape(3, 3, 3)\n",
    "rows = [0, 1]\n",
    "cols = [1, 2]\n",
    "depth = [2, 0]\n",
    "print(\"Selected elements:\", arr[rows, cols, depth])\n"
   ]
  },
  {
   "cell_type": "code",
   "execution_count": null,
   "id": "46da9a4c",
   "metadata": {},
   "outputs": [],
   "source": [
    "# Q34. Return elements satisfying two boolean conditions.\n",
    "\n",
    "arr = np.array([5, 10, 15, 20, 25])\n",
    "print(\"Between 10 and 20:\", arr[(arr >= 10) & (arr <= 20)])\n"
   ]
  },
  {
   "cell_type": "code",
   "execution_count": null,
   "id": "f8029247",
   "metadata": {},
   "outputs": [],
   "source": [
    "# Q35. Extract elements from a 2D array using separate row and column index arrays.\n",
    "\n",
    "arr = np.array([[10, 20, 30],\n",
    "                [40, 50, 60],\n",
    "                [70, 80, 90]])\n",
    "rows = np.array([0, 1, 2])\n",
    "cols = np.array([1, 2, 0])\n",
    "print(\"Indexed elements:\", arr[rows, cols])\n",
    "\n"
   ]
  },
  {
   "cell_type": "markdown",
   "id": "de00ba24",
   "metadata": {},
   "source": [
    "#### Broadcasting\n"
   ]
  },
  {
   "cell_type": "code",
   "execution_count": null,
   "id": "c1c70a24",
   "metadata": {},
   "outputs": [],
   "source": [
    "# Q36. Add scalar 5 to every element of an array using broadcasting.\n",
    "\n",
    "arr = np.array([1, 2, 3])\n",
    "print(\"After adding 5:\", arr + 5)\n"
   ]
  },
  {
   "cell_type": "code",
   "execution_count": null,
   "id": "f87fb3de",
   "metadata": {},
   "outputs": [],
   "source": [
    "# Q37. Multiply each row of a (3, 4) array by corresponding elements of a (1, 3) array.\n",
    "\n",
    "arr = np.ones((3, 4))\n",
    "row_weights = np.array([[1], [2], [3]])\n",
    "print(\"Scaled array:\\n\", arr * row_weights)\n"
   ]
  },
  {
   "cell_type": "code",
   "execution_count": null,
   "id": "14468760",
   "metadata": {},
   "outputs": [],
   "source": [
    "# Q38. Add a (1, 4) array to every row of a (4, 3) array using broadcasting.\n",
    "\n",
    "a = np.ones((4, 3))\n",
    "b = np.array([[1, 2, 3]])\n",
    "print(\"Broadcasted addition:\\n\", a + b)\n"
   ]
  },
  {
   "cell_type": "code",
   "execution_count": null,
   "id": "b401eede",
   "metadata": {},
   "outputs": [],
   "source": [
    "# Q39. Add two arrays of shapes (3, 1) and (1, 3) using broadcasting.\n",
    "\n",
    "a = np.array([[1], [2], [3]])\n",
    "b = np.array([[10, 20, 30]])\n",
    "print(\"Broadcasted sum:\\n\", a + b)\n"
   ]
  },
  {
   "cell_type": "code",
   "execution_count": null,
   "id": "15f234b9",
   "metadata": {},
   "outputs": [],
   "source": [
    "# Q40. Handle shape incompatibility during multiplication between (2, 3) and (2, 2) arrays.\n",
    "\n",
    "a = np.ones((2, 3))\n",
    "b = np.ones((2, 2))\n",
    "\n",
    "try:\n",
    "    result = a * b\n",
    "except ValueError as e:\n",
    "    print(\"Shape incompatibility:\", e)\n"
   ]
  },
  {
   "cell_type": "markdown",
   "id": "4596ff31",
   "metadata": {},
   "source": [
    "#### Aggregations and Statistics"
   ]
  },
  {
   "cell_type": "code",
   "execution_count": null,
   "id": "074e669d",
   "metadata": {},
   "outputs": [],
   "source": [
    "# Q41. Calculate column-wise mean of a 2D array.\n",
    "\n",
    "arr = np.array([[1, 2, 3], [4, 5, 6]])\n",
    "print(\"Column-wise mean:\", np.mean(arr, axis=0))\n"
   ]
  },
  {
   "cell_type": "code",
   "execution_count": null,
   "id": "b2b36caa",
   "metadata": {},
   "outputs": [],
   "source": [
    "# Q42. Find maximum value in each row.\n",
    "arr = np.array([[3, 7, 2], [8, 1, 6]])\n",
    "print(\"Row-wise max:\", np.max(arr, axis=1))\n"
   ]
  },
  {
   "cell_type": "code",
   "execution_count": null,
   "id": "53847ada",
   "metadata": {},
   "outputs": [],
   "source": [
    "# Q43. Find indices of maximum values in each column.\n",
    "\n",
    "arr = np.array([[3, 7, 2], [8, 1, 6]])\n",
    "print(\"Max indices (per column):\", np.argmax(arr, axis=0))\n"
   ]
  },
  {
   "cell_type": "code",
   "execution_count": null,
   "id": "494eb43c",
   "metadata": {},
   "outputs": [],
   "source": [
    "# Q44. Apply a custom function to compute moving sum along rows.\n",
    "\n",
    "def moving_sum(arr, window=2):\n",
    "    return np.convolve(arr, np.ones(window, dtype=int), 'valid')\n",
    "\n",
    "row = np.array([1, 2, 3, 4, 5])\n",
    "print(\"Moving sum:\", moving_sum(row))\n"
   ]
  },
  {
   "cell_type": "code",
   "execution_count": null,
   "id": "55bdcead",
   "metadata": {},
   "outputs": [],
   "source": [
    "# Q45. Check if all elements in each column are even.\n",
    "\n",
    "arr = np.array([[2, 4], [6, 8]])\n",
    "print(\"All even in columns:\", np.all(arr % 2 == 0, axis=0))\n"
   ]
  },
  {
   "cell_type": "markdown",
   "id": "33c84eff",
   "metadata": {},
   "source": [
    "#### Reshaping and Flattening\n"
   ]
  },
  {
   "cell_type": "code",
   "execution_count": null,
   "id": "51c9ba1f",
   "metadata": {},
   "outputs": [],
   "source": [
    "# Q46. Reshape a given array into dimensions m × n.\n",
    "\n",
    "arr = np.arange(12)\n",
    "reshaped = arr.reshape((3, 4))\n",
    "print(\"Reshaped array:\\n\", reshaped)\n"
   ]
  },
  {
   "cell_type": "code",
   "execution_count": null,
   "id": "d2c68c17",
   "metadata": {},
   "outputs": [],
   "source": [
    "#  Q47. Return a flattened version of a given matrix.\n",
    "\n",
    "matrix = np.array([[1, 2], [3, 4]])\n",
    "print(\"Flattened:\", matrix.flatten())\n"
   ]
  },
  {
   "cell_type": "code",
   "execution_count": null,
   "id": "8e32876f",
   "metadata": {},
   "outputs": [],
   "source": [
    "# Q48. Concatenate two arrays along a specified axis.\n",
    "\n",
    "a = np.array([[1, 2], [3, 4]])\n",
    "b = np.array([[5, 6], [7, 8]])\n",
    "print(\"Concatenated (axis=1):\\n\", np.concatenate((a, b), axis=1))\n"
   ]
  },
  {
   "cell_type": "code",
   "execution_count": null,
   "id": "a9174e25",
   "metadata": {},
   "outputs": [],
   "source": [
    "# Q49. Split an array into sub-arrays along a specified axis.\n",
    "\n",
    "arr = np.array([[1, 2, 3], [4, 5, 6]])\n",
    "split = np.split(arr, 3, axis=1)\n",
    "print(\"Split arrays:\", split)\n"
   ]
  },
  {
   "cell_type": "code",
   "execution_count": null,
   "id": "698f02a4",
   "metadata": {},
   "outputs": [],
   "source": [
    "# Q50. Insert and delete elements at specified indices from an array.\n",
    "\n",
    "arr = np.array([1, 2, 3, 4])\n",
    "arr_inserted = np.insert(arr, 2, 99)\n",
    "arr_deleted = np.delete(arr_inserted, 1)\n",
    "print(\"After insert:\", arr_inserted)\n",
    "print(\"After delete:\", arr_deleted)\n"
   ]
  },
  {
   "cell_type": "markdown",
   "id": "f3cfcd9c",
   "metadata": {},
   "source": [
    "#### Element-wise Operations"
   ]
  },
  {
   "cell_type": "code",
   "execution_count": null,
   "id": "a895baa4",
   "metadata": {},
   "outputs": [],
   "source": [
    "# Q51–Q55: Element-wise Operations\n",
    "\n",
    "arr1 = np.array([1, 2, 3])\n",
    "arr2 = np.array([4, 5, 6])\n",
    "\n",
    "print(\"Addition:\", arr1 + arr2)\n",
    "print(\"Subtraction:\", arr1 - arr2)\n",
    "print(\"Multiplication:\", arr1 * arr2)\n",
    "print(\"Division:\", arr1 / arr2)\n",
    "print(\"Exponentiation:\", arr1 ** arr2)\n"
   ]
  },
  {
   "cell_type": "markdown",
   "id": "c9d369eb",
   "metadata": {},
   "source": [
    "#### String Operations\n"
   ]
  },
  {
   "cell_type": "code",
   "execution_count": null,
   "id": "f47c564a",
   "metadata": {},
   "outputs": [],
   "source": [
    "#  Q56–Q60: String Operations\n",
    "\n",
    "arr = np.array(['Hello World', 'NumPy String'])\n",
    "\n",
    "# Q56\n",
    "print(\"Count 'o':\", np.char.count(arr, 'o'))\n",
    "\n",
    "# Q57\n",
    "uppercase = np.vectorize(lambda s: ''.join([c for c in s if c.isupper()]))\n",
    "print(\"Uppercase chars:\", uppercase(arr))\n",
    "\n",
    "# Q58\n",
    "print(\"Replace 'World' with 'Friend':\", np.char.replace(arr, 'World', 'Friend'))\n",
    "\n",
    "# Q59\n",
    "print(\"Concatenate:\", np.char.add(['A', 'B'], ['1', '2']))\n",
    "\n",
    "# Q60\n",
    "print(\"Max string length:\", max(len(s) for s in arr))\n"
   ]
  },
  {
   "cell_type": "markdown",
   "id": "020c39e7",
   "metadata": {},
   "source": [
    "#### Descriptive Statistics\n"
   ]
  },
  {
   "cell_type": "code",
   "execution_count": null,
   "id": "2bcacfbd",
   "metadata": {},
   "outputs": [],
   "source": [
    "# Q61–Q65: Descriptive Statistics\n",
    "\n",
    "data = np.random.randint(1, 1001, 100)\n",
    "print(\"Mean:\", np.mean(data))\n",
    "print(\"Median:\", np.median(data))\n",
    "print(\"Variance:\", np.var(data))\n",
    "print(\"Std Dev:\", np.std(data))\n",
    "\n",
    "data2 = np.random.randint(1, 101, 50)\n",
    "print(\"25th Percentile:\", np.percentile(data2, 25))\n",
    "print(\"75th Percentile:\", np.percentile(data2, 75))\n",
    "\n",
    "arr1 = np.random.rand(10)\n",
    "arr2 = np.random.rand(10)\n",
    "print(\"Correlation Coefficient:\\n\", np.corrcoef(arr1, arr2))\n",
    "\n",
    "# Matrix multiplication\n",
    "a = np.array([[1, 2], [3, 4]])\n",
    "b = np.array([[2, 0], [1, 2]])\n",
    "print(\"Dot product:\\n\", np.dot(a, b))\n",
    "\n",
    "# Percentiles\n",
    "print(\"10th:\", np.percentile(data2, 10))\n",
    "print(\"50th:\", np.percentile(data2, 50))\n",
    "print(\"90th:\", np.percentile(data2, 90))\n"
   ]
  },
  {
   "cell_type": "markdown",
   "id": "74250264",
   "metadata": {},
   "source": [
    "#### Search and Sort"
   ]
  },
  {
   "cell_type": "code",
   "execution_count": null,
   "id": "ea8139a4",
   "metadata": {},
   "outputs": [],
   "source": [
    "# Q66–Q70: Search and Sort\n",
    "\n",
    "arr = np.array([5, 10, 15, 20, 25, 30])\n",
    "print(\"Index of 20:\", np.where(arr == 20)[0][0])\n",
    "print(\"Sorted:\", np.sort(arr))\n",
    "print(\"Greater than 20:\", arr[arr > 20])\n",
    "print(\"Divisible by 3:\", arr[arr % 3 == 0])\n",
    "print(\"Between 20 and 40:\", arr[(arr >= 20) & (arr <= 40)])\n"
   ]
  },
  {
   "cell_type": "markdown",
   "id": "6bf619e6",
   "metadata": {},
   "source": [
    "#### Byte Order & Swapping"
   ]
  },
  {
   "cell_type": "code",
   "execution_count": null,
   "id": "1f8afc1a",
   "metadata": {},
   "outputs": [],
   "source": [
    "#  Q71–Q72: Byte Order & Swapping\n",
    "\n",
    "arr = np.array([1, 2, 3])\n",
    "print(\"Byte order:\", arr.dtype.byteorder)\n",
    "\n",
    "# Byte swap\n",
    "swapped = arr.byteswap().newbyteorder()\n",
    "print(\"Byte swapped array:\", swapped)\n"
   ]
  },
  {
   "cell_type": "code",
   "execution_count": null,
   "id": "49cfd1b8",
   "metadata": {},
   "outputs": [],
   "source": []
  },
  {
   "cell_type": "code",
   "execution_count": null,
   "id": "92fafb42",
   "metadata": {},
   "outputs": [],
   "source": []
  }
 ],
 "metadata": {
  "kernelspec": {
   "display_name": "Python 3",
   "language": "python",
   "name": "python3"
  },
  "language_info": {
   "codemirror_mode": {
    "name": "ipython",
    "version": 3
   },
   "file_extension": ".py",
   "mimetype": "text/x-python",
   "name": "python",
   "nbconvert_exporter": "python",
   "pygments_lexer": "ipython3",
   "version": "3.13.5"
  }
 },
 "nbformat": 4,
 "nbformat_minor": 5
}
