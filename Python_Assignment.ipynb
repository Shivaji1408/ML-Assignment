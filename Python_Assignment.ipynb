{
 "cells": [
  {
   "cell_type": "markdown",
   "id": "111b3d32",
   "metadata": {},
   "source": [
    "# Python Assignment Questions"
   ]
  },
  {
   "cell_type": "markdown",
   "id": "32764313",
   "metadata": {},
   "source": [
    "#### Section A: Data Types & Control Flow (Q1–Q15)"
   ]
  },
  {
   "cell_type": "code",
   "execution_count": 11,
   "id": "6df2b5c0",
   "metadata": {},
   "outputs": [],
   "source": [
    "import math\n",
    "import numpy"
   ]
  },
  {
   "cell_type": "code",
   "execution_count": 12,
   "id": "5753198b",
   "metadata": {},
   "outputs": [
    {
     "name": "stdout",
     "output_type": "stream",
     "text": [
      "Second largest number: 45\n"
     ]
    }
   ],
   "source": [
    "# 1. Write a Python program to find the second largest number in a list without using the sort() method.\n",
    "\n",
    "def find_second_largest(lst):\n",
    "    if len(lst) < 2:\n",
    "        return \"List must contain at least two numbers.\"\n",
    "\n",
    "    largest = max(lst)\n",
    "    second_largest = None\n",
    "\n",
    "    for num in lst:\n",
    "        if num != largest:\n",
    "            if second_largest is None or num > second_largest:\n",
    "                second_largest = num\n",
    "\n",
    "    if second_largest is None:\n",
    "        return \"All elements are the same. No second largest number.\"\n",
    "    else:\n",
    "        return second_largest\n",
    "\n",
    "\n",
    "my_list = [10, 20, 4, 45, 99, 99]\n",
    "result = find_second_largest(my_list)\n",
    "print(\"Second largest number:\", result)\n"
   ]
  },
  {
   "cell_type": "code",
   "execution_count": 13,
   "id": "f041b80a",
   "metadata": {},
   "outputs": [
    {
     "name": "stdout",
     "output_type": "stream",
     "text": [
      "Sorted list without duplicates: [1, 2, 4, 5, 7, 9]\n"
     ]
    }
   ],
   "source": [
    "# 2. Remove duplicates from a list without using set() and return it in sorted order.\n",
    "\n",
    "def remove_duplicates_and_sort(lst):\n",
    "    # Step 1: Remove duplicates manually\n",
    "    unique_list = []\n",
    "    for item in lst:\n",
    "        if item not in unique_list:\n",
    "            unique_list.append(item)\n",
    "\n",
    "    # Step 2: Sort the unique list using Bubble Sort\n",
    "    n = len(unique_list)\n",
    "    for i in range(n):\n",
    "        for j in range(0, n-i-1):\n",
    "            if unique_list[j] > unique_list[j+1]:\n",
    "                # Swap\n",
    "                unique_list[j], unique_list[j+1] = unique_list[j+1], unique_list[j]\n",
    "\n",
    "    return unique_list\n",
    "\n",
    "# Example usage\n",
    "my_list = [4, 2, 7, 2, 9, 1, 4, 5, 1]\n",
    "result = remove_duplicates_and_sort(my_list)\n",
    "print(\"Sorted list without duplicates:\", result)"
   ]
  },
  {
   "cell_type": "code",
   "execution_count": 14,
   "id": "52cd95a6",
   "metadata": {},
   "outputs": [
    {
     "name": "stdout",
     "output_type": "stream",
     "text": [
      "Sum of the List :  38\n",
      "Average of the List :  4.75\n"
     ]
    }
   ],
   "source": [
    "# 3. Find the sum and average of a list of numbers.\n",
    "\n",
    "lst = [2,4,5,6,8,9,3,1]\n",
    "\n",
    "def sumOfList(lst):\n",
    "    sum = 0\n",
    "    for i in lst:\n",
    "        sum += i\n",
    "    return sum\n",
    "\n",
    "\n",
    "print(\"Sum of the List : \", sumOfList(lst))\n",
    "print(\"Average of the List : \", sumOfList(lst)/len(lst))\n"
   ]
  },
  {
   "cell_type": "code",
   "execution_count": null,
   "id": "242e561b",
   "metadata": {},
   "outputs": [
    {
     "data": {
      "text/plain": [
       "'It is a Prime Number.'"
      ]
     },
     "execution_count": 18,
     "metadata": {},
     "output_type": "execute_result"
    }
   ],
   "source": [
    "# 4. Create a program to check if a number is prime.\n",
    "\n",
    "def isPrime(num):\n",
    "    if num <= 1:\n",
    "        return False\n",
    "    for i in range(2, int(math.sqrt(num))+1):\n",
    "        if num % i==0:\n",
    "            return \"It is a Non Prime Number.\"\n",
    "    return \"It is a Prime Number.\"\n",
    "\n",
    "\n",
    "num = int(input(\"Enter a Number : \"))\n",
    "isPrime(num)\n",
    "\n"
   ]
  },
  {
   "cell_type": "code",
   "execution_count": null,
   "id": "38cd50a3",
   "metadata": {},
   "outputs": [
    {
     "name": "stdout",
     "output_type": "stream",
     "text": [
      "In word Hello@#235: \n",
      "Vowels: 2\n",
      "Consonants: 3\n",
      "Digits: 3\n",
      "Special Characters: 2\n"
     ]
    }
   ],
   "source": [
    "# 5. Count the number of vowels, consonants, digits, and special characters in a given string.\n",
    "\n",
    "def count_characters(str1):\n",
    "    vwl = 0\n",
    "    cnsnt = 0\n",
    "    dgt = 0\n",
    "    spe_char = 0\n",
    "\n",
    "    for char in str1:\n",
    "        if char.isalpha():\n",
    "            if char.lower() in 'aeiou':\n",
    "                vwl += 1\n",
    "            else:\n",
    "                cnsnt += 1\n",
    "        elif char.isdigit():\n",
    "            dgt += 1\n",
    "        elif not char.isspace():\n",
    "            spe_char += 1\n",
    "            \n",
    "    print(\"In word \" + str1 + \": \")\n",
    "    print(\"Vowels:\", vwl)\n",
    "    print(\"Consonants:\", cnsnt)\n",
    "    print(\"Digits:\", dgt)\n",
    "    print(\"Special Characters:\", spe_char)\n",
    "\n",
    "\n",
    "str1 = input(\"Enter a string: \")\n",
    "count_characters(str1)\n"
   ]
  },
  {
   "cell_type": "code",
   "execution_count": 22,
   "id": "84a5a67d",
   "metadata": {},
   "outputs": [
    {
     "name": "stdout",
     "output_type": "stream",
     "text": [
      "2 4 6 8 10 12 14 16 18 20 22 24 26 28 30 32 34 36 38 40 42 44 46 48 50 52 54 56 58 60 62 64 66 68 70 72 74 76 78 80 82 84 86 88 90 92 94 96 98 100 "
     ]
    }
   ],
   "source": [
    "# 6. Print all even numbers between 1 and 100 using a for loop.\n",
    "\n",
    "for i in range(1,101):\n",
    "    if i%2==0:\n",
    "        print(i, end=' ')"
   ]
  },
  {
   "cell_type": "code",
   "execution_count": 26,
   "id": "9bf36e2b",
   "metadata": {},
   "outputs": [
    {
     "name": "stdout",
     "output_type": "stream",
     "text": [
      "10  *  1  =  10\n",
      "10  *  2  =  20\n",
      "10  *  3  =  30\n",
      "10  *  4  =  40\n",
      "10  *  5  =  50\n",
      "10  *  6  =  60\n",
      "10  *  7  =  70\n",
      "10  *  8  =  80\n",
      "10  *  9  =  90\n",
      "10  *  10  =  100\n"
     ]
    }
   ],
   "source": [
    "# 7. Write a program to print the multiplication table of a number entered by the user.\n",
    "\n",
    "num = int(input(\"Enter the number : \"))\n",
    "for i in range(1,11):\n",
    "    print(num , \" * \" , i , \" = \" , num*i)"
   ]
  },
  {
   "cell_type": "code",
   "execution_count": 28,
   "id": "5c915f94",
   "metadata": {},
   "outputs": [
    {
     "name": "stdout",
     "output_type": "stream",
     "text": [
      "15 30 45 60 75 90 "
     ]
    }
   ],
   "source": [
    "# 8. Create a list of numbers from 1 to 100 that are divisible by both 3 and 5.\n",
    "\n",
    "for i in range(1,101):\n",
    "    if i % 3 == 0  and i % 5 == 0 :\n",
    "        print(i , end=' ')"
   ]
  },
  {
   "cell_type": "code",
   "execution_count": 39,
   "id": "8ad881e8",
   "metadata": {},
   "outputs": [
    {
     "name": "stdout",
     "output_type": "stream",
     "text": [
      "Reversed number: 652\n"
     ]
    }
   ],
   "source": [
    "# 9. Take a number input and print its reverse.\n",
    "\n",
    "num = int(input(\"Enter a number: \"))\n",
    "reverse = 0\n",
    "\n",
    "while num > 0:\n",
    "    digit = num % 10\n",
    "    reverse = reverse * 10 + digit\n",
    "    num = num // 10\n",
    "\n",
    "print(\"Reversed number:\", reverse)\n"
   ]
  },
  {
   "cell_type": "code",
   "execution_count": null,
   "id": "1a3cef6d",
   "metadata": {},
   "outputs": [],
   "source": [
    "# 10. Count the frequency of each character in a string and store it in a dictionary.\n",
    "\n",
    "def count_char_frequency(input_string):\n",
    "    frequency = {}\n",
    "\n",
    "    for char in input_string:\n",
    "        if char in frequency:\n",
    "            frequency[char] += 1\n",
    "        else:\n",
    "            frequency[char] = 1\n",
    "\n",
    "    return frequency\n",
    "\n",
    "user_input = input(\"Enter a string: \")\n",
    "char_freq = count_char_frequency(user_input)\n",
    "\n",
    "print(\"Character frequency:\")\n",
    "for char, count in char_freq.items():\n",
    "    print(f\"'{char}': {count}\")\n"
   ]
  },
  {
   "cell_type": "code",
   "execution_count": null,
   "id": "29220205",
   "metadata": {},
   "outputs": [
    {
     "name": "stdout",
     "output_type": "stream",
     "text": [
      "2 3 5 7 11 13 17 19 23 29 31 37 41 43 47 53 59 61 67 71 73 79 83 89 97 "
     ]
    }
   ],
   "source": [
    "# 11. Write a Python program to generate the first n prime numbers.\n",
    "\n",
    "def isPrime(num):\n",
    "    if num <= 1:\n",
    "        return False\n",
    "    for i in range(2, int(math.sqrt(num))+1):\n",
    "        if num % i==0:\n",
    "            return False\n",
    "    return True\n",
    "\n",
    "n = int(input(\"Enter the number : \"))\n",
    "for i in range(1,n):\n",
    "    if isPrime(i) == True:\n",
    "        print(i, end=' ')"
   ]
  },
  {
   "cell_type": "code",
   "execution_count": 43,
   "id": "2b25f9ca",
   "metadata": {},
   "outputs": [
    {
     "name": "stdout",
     "output_type": "stream",
     "text": [
      "It is a Palindrome Number.\n"
     ]
    }
   ],
   "source": [
    "# 12. Check whether a number is a palindrome or not.\n",
    "\n",
    "def is_palindrome(number):\n",
    "    reversed_num = str(number)[::-1]    \n",
    "    if str(number) == reversed_num:\n",
    "        return \"It is a Palindrome Number.\"\n",
    "    else:\n",
    "        return \"It is NOT a Palindrome Number.\"\n",
    "\n",
    "num = int(input(\"Enter a number: \"))\n",
    "print(is_palindrome(num))\n"
   ]
  },
  {
   "cell_type": "code",
   "execution_count": 44,
   "id": "50eb8078",
   "metadata": {},
   "outputs": [
    {
     "name": "stdout",
     "output_type": "stream",
     "text": [
      "The element 2 appears 4 times in the list.\n"
     ]
    }
   ],
   "source": [
    "# 13. Count how many times a specific element appears in a list.\n",
    "\n",
    "def count_occurrences(my_list, element):\n",
    "    count = 0\n",
    "    for item in my_list:\n",
    "        if item == element:\n",
    "            count += 1\n",
    "    return count\n",
    "\n",
    "my_list = [1, 2, 3, 2, 4, 2, 5, 2, 6]\n",
    "element_to_count = int(input(\"Enter the element to count: \"))\n",
    "result = count_occurrences(my_list, element_to_count)\n",
    "\n",
    "print(f\"The element {element_to_count} appears {result} times in the list.\")\n"
   ]
  },
  {
   "cell_type": "code",
   "execution_count": 47,
   "id": "299f6af7",
   "metadata": {},
   "outputs": [
    {
     "name": "stdout",
     "output_type": "stream",
     "text": [
      "[4, 16, 36, 64, 100, 144, 196, 256, 324, 400, 484, 576, 676, 784, 900, 1024, 1156, 1296, 1444, 1600, 1764, 1936, 2116, 2304, 2500]\n"
     ]
    }
   ],
   "source": [
    "# 14. Create a list of squares of even numbers between 1 and 50.\n",
    "\n",
    "lst = []\n",
    "for i in range(1,51):\n",
    "    if i%2==0:\n",
    "        lst.append(i**2)\n",
    "\n",
    "print(lst)"
   ]
  },
  {
   "cell_type": "code",
   "execution_count": 48,
   "id": "20967cf0",
   "metadata": {},
   "outputs": [
    {
     "name": "stdout",
     "output_type": "stream",
     "text": [
      "List with unique elements: [2, 6, 8, 5, 4, 7, 3, 9]\n"
     ]
    }
   ],
   "source": [
    "# 15. Accept a list and return a new list with only unique elements (preserve order).\n",
    "\n",
    "def get_unique_elements(original_list):\n",
    "    unique_list = []\n",
    "    for item in original_list:\n",
    "        if item not in unique_list:\n",
    "            unique_list.append(item)\n",
    "    return unique_list\n",
    "\n",
    "input_list = input(\"Enter list elements separated by spaces: \").split()\n",
    "input_list = [int(x) for x in input_list]\n",
    "\n",
    "result = get_unique_elements(input_list)\n",
    "print(\"List with unique elements:\", result)\n"
   ]
  },
  {
   "cell_type": "markdown",
   "id": "85af8d96",
   "metadata": {},
   "source": [
    "#### Section B: Functions (Q16–Q30)"
   ]
  },
  {
   "cell_type": "code",
   "execution_count": 53,
   "id": "f4d2e8d6",
   "metadata": {},
   "outputs": [
    {
     "data": {
      "text/plain": [
       "False"
      ]
     },
     "execution_count": 53,
     "metadata": {},
     "output_type": "execute_result"
    }
   ],
   "source": [
    "# 16. Write a function to check if a number is even or odd\n",
    "\n",
    "def isEven(num):\n",
    "    if num%2==0:\n",
    "        return True\n",
    "    else:\n",
    "        return False\n",
    "    \n",
    "num = int(input(\"Enter a number: \"))\n",
    "isEven(num)"
   ]
  },
  {
   "cell_type": "code",
   "execution_count": 54,
   "id": "bcb770f2",
   "metadata": {},
   "outputs": [
    {
     "name": "stdout",
     "output_type": "stream",
     "text": [
      "Cumulative sum: [1, 3, 6, 10, 15]\n"
     ]
    }
   ],
   "source": [
    "# 17. Create a function that takes a list of numbers and returns their cumulative sum.\n",
    "\n",
    "def cumulative_sum(numbers):\n",
    "    result = []\n",
    "    total = 0\n",
    "    for num in numbers:\n",
    "        total += num\n",
    "        result.append(total)\n",
    "    return result\n",
    "\n",
    "input_list = [1, 2, 3, 4, 5]\n",
    "output = cumulative_sum(input_list)\n",
    "print(\"Cumulative sum:\", output)\n"
   ]
  },
  {
   "cell_type": "code",
   "execution_count": 55,
   "id": "15bb85b3",
   "metadata": {},
   "outputs": [
    {
     "name": "stdout",
     "output_type": "stream",
     "text": [
      "Factorial of 5 is: 120\n"
     ]
    }
   ],
   "source": [
    "# 18. Write a recursive function to find the factorial of a number.\n",
    "\n",
    "def factorial(n):\n",
    "    if n == 0 or n == 1:\n",
    "        return 1 \n",
    "    else:\n",
    "        return n * factorial(n - 1)\n",
    "\n",
    "\n",
    "num = int(input(\"Enter a number: \"))\n",
    "if num < 0:\n",
    "    print(\"Factorial is not defined for negative numbers.\")\n",
    "else:\n",
    "    print(f\"Factorial of {num} is:\", factorial(num))\n",
    "\n"
   ]
  },
  {
   "cell_type": "code",
   "execution_count": 56,
   "id": "9706f24f",
   "metadata": {},
   "outputs": [
    {
     "name": "stdout",
     "output_type": "stream",
     "text": [
      "Fibonacci series:\n",
      "0 1 1 2 3 5 8 13 21 34 "
     ]
    }
   ],
   "source": [
    "# 19. Write a function to print the Fibonacci series up to n terms.\n",
    "\n",
    "def print_fibonacci(n):\n",
    "    a, b = 0, 1\n",
    "    for i in range(n):\n",
    "        print(a, end=\" \")\n",
    "        a, b = b, a + b\n",
    "\n",
    "num = int(input(\"Enter the number : \"))\n",
    "if num <= 0:\n",
    "    print(\"Please enter a positive number.\")\n",
    "else:\n",
    "    print(\"Fibonacci series:\")\n",
    "    print_fibonacci(num)\n"
   ]
  },
  {
   "cell_type": "code",
   "execution_count": 57,
   "id": "ad013c55",
   "metadata": {},
   "outputs": [
    {
     "name": "stdout",
     "output_type": "stream",
     "text": [
      "It is a Palindrome.\n"
     ]
    }
   ],
   "source": [
    "# 20. Define a function that checks if a given string is a palindrome.\n",
    "\n",
    "def is_palindrome(s):\n",
    "    s = s.replace(\" \", \"\").lower()\n",
    "    return s == s[::-1]\n",
    "\n",
    "text = input(\"Enter a string: \")\n",
    "if is_palindrome(text):\n",
    "    print(\"It is a Palindrome.\")\n",
    "else:\n",
    "    print(\"It is NOT a Palindrome.\")\n"
   ]
  },
  {
   "cell_type": "code",
   "execution_count": 58,
   "id": "cd2831a5",
   "metadata": {},
   "outputs": [
    {
     "name": "stdout",
     "output_type": "stream",
     "text": [
      "Maximum: 9\n",
      "Minimum: 1\n"
     ]
    }
   ],
   "source": [
    "# 21. Create a function that returns the maximum and minimum elements from a list.\n",
    "\n",
    "def find_max_min(numbers):\n",
    "    if len(numbers) == 0:\n",
    "        return \"List is empty.\"\n",
    "\n",
    "    max_val = numbers[0]\n",
    "    min_val = numbers[0]\n",
    "\n",
    "    for num in numbers:\n",
    "        if num > max_val:\n",
    "            max_val = num\n",
    "        if num < min_val:\n",
    "            min_val = num\n",
    "\n",
    "    return max_val, min_val\n",
    "\n",
    "my_list = [5, 2, 9, 1, 7, 6]\n",
    "maximum, minimum = find_max_min(my_list)\n",
    "print(\"Maximum:\", maximum)\n",
    "print(\"Minimum:\", minimum)\n"
   ]
  },
  {
   "cell_type": "code",
   "execution_count": null,
   "id": "2eb0d25c",
   "metadata": {},
   "outputs": [],
   "source": [
    "# 22. Write a function to check whether a string is a pangram.\n",
    "\n",
    "def is_pangram(sentence):\n",
    "    alphabet = \"abcdefghijklmnopqrstuvwxyz\"\n",
    "    sentence = sentence.lower()\n",
    "\n",
    "    for letter in alphabet:\n",
    "        if letter not in sentence:\n",
    "            return False\n",
    "\n",
    "    return True\n",
    "\n",
    "text = input(\"Enter a sentence: \")\n",
    "if is_pangram(text):\n",
    "    print(\"It is a Pangram.\")\n",
    "else:\n",
    "    print(\"It is NOT a Pangram.\")\n"
   ]
  },
  {
   "cell_type": "code",
   "execution_count": null,
   "id": "8d2774e1",
   "metadata": {},
   "outputs": [],
   "source": [
    "# 23. Create a function that finds and returns all prime numbers in a given range.\n",
    "\n",
    "def find_primes_in_range(start, end):\n",
    "    primes = []\n",
    "    for num in range(start, end + 1):\n",
    "        if num > 1:\n",
    "            for i in range(2, int(num**0.5) + 1):\n",
    "                if num % i == 0:\n",
    "                    break\n",
    "            else:\n",
    "                primes.append(num)\n",
    "    return primes\n",
    "\n",
    "start = int(input(\"Enter the start of range: \"))\n",
    "end = int(input(\"Enter the end of range: \"))\n",
    "\n",
    "prime_numbers = find_primes_in_range(start, end)\n",
    "print(\"Prime numbers between\", start, \"and\", end, \"are:\")\n",
    "print(prime_numbers)\n"
   ]
  },
  {
   "cell_type": "code",
   "execution_count": 62,
   "id": "feda2f52",
   "metadata": {},
   "outputs": [
    {
     "name": "stdout",
     "output_type": "stream",
     "text": [
      "Upper case : 2 \n",
      "Lower Case : 8\n"
     ]
    }
   ],
   "source": [
    "# 24. Write a function to return the number of uppercase and lowercase letters in a string.\n",
    "\n",
    "def count_case(s):\n",
    "    upper = lower = 0\n",
    "    for char in s:\n",
    "        if char.isupper():\n",
    "            upper += 1\n",
    "        elif char.islower():\n",
    "            lower += 1\n",
    "\n",
    "    return f\"Upper case : {upper} \\nLower Case : {lower}\"\n",
    "    # return upper, lower\n",
    "\n",
    "print(count_case(\"Hello World!\"))\n"
   ]
  },
  {
   "cell_type": "code",
   "execution_count": 65,
   "id": "8a60c9ed",
   "metadata": {},
   "outputs": [
    {
     "name": "stdout",
     "output_type": "stream",
     "text": [
      "Sum of digits : 15\n"
     ]
    }
   ],
   "source": [
    "# 25. Write a function to compute the sum of digits of a number.\n",
    "def sum_of_digits(n):\n",
    "    total = 0\n",
    "    while n > 0:\n",
    "        total += n % 10\n",
    "        n //= 10\n",
    "    return f\"Sum of digits : {total}\"\n",
    "\n",
    "print(sum_of_digits(12345))"
   ]
  },
  {
   "cell_type": "code",
   "execution_count": 66,
   "id": "1c7c896d",
   "metadata": {},
   "outputs": [
    {
     "name": "stdout",
     "output_type": "stream",
     "text": [
      "5\n"
     ]
    }
   ],
   "source": [
    "# 26. Write a function to count words in a sentence.\n",
    "\n",
    "def count_words(sentence):\n",
    "    return len(sentence.split())\n",
    "\n",
    "print(count_words(\"This is a sample sentence.\"))"
   ]
  },
  {
   "cell_type": "code",
   "execution_count": 67,
   "id": "2fc61ac3",
   "metadata": {},
   "outputs": [
    {
     "name": "stdout",
     "output_type": "stream",
     "text": [
      "Hello How are you doing\n"
     ]
    }
   ],
   "source": [
    "# 27. Create a function to remove all punctuation from a string.\n",
    "import string\n",
    "\n",
    "def remove_punctuation(s):\n",
    "    return ''.join(char for char in s if char not in string.punctuation)\n",
    "\n",
    "print(remove_punctuation(\"Hello! How are you doing\"))\n"
   ]
  },
  {
   "cell_type": "code",
   "execution_count": 68,
   "id": "0b48fc00",
   "metadata": {},
   "outputs": [
    {
     "name": "stdout",
     "output_type": "stream",
     "text": [
      "6\n"
     ]
    }
   ],
   "source": [
    "# 28. Create a function that finds the GCD (greatest common divisor) of two numbers.\n",
    "\n",
    "def gcd(a, b):\n",
    "    while b:\n",
    "        a, b = b, a % b\n",
    "    return a\n",
    "\n",
    "print(gcd(48, 18))\n"
   ]
  },
  {
   "cell_type": "code",
   "execution_count": 69,
   "id": "ecd33a03",
   "metadata": {},
   "outputs": [
    {
     "name": "stdout",
     "output_type": "stream",
     "text": [
      "[1, 2]\n"
     ]
    }
   ],
   "source": [
    "# 29. Write a function that takes a list and returns only those elements that appear more than once.\n",
    "\n",
    "def duplicates(lst):\n",
    "    seen = {}\n",
    "    for item in lst:\n",
    "        seen[item] = seen.get(item, 0) + 1\n",
    "    return [k for k, v in seen.items() if v > 1]\n",
    "\n",
    "print(duplicates([1, 2, 3, 2, 4, 5, 1]))\n"
   ]
  },
  {
   "cell_type": "code",
   "execution_count": 70,
   "id": "2e3da9c1",
   "metadata": {},
   "outputs": [
    {
     "name": "stdout",
     "output_type": "stream",
     "text": [
      "20\n"
     ]
    }
   ],
   "source": [
    "# 30. Create a function to return the largest of three numbers\n",
    "\n",
    "def largest_of_three(a, b, c):\n",
    "    if a >= b and a >= c:\n",
    "        return a\n",
    "    elif b >= a and b >= c:\n",
    "        return b\n",
    "    else:\n",
    "        return c\n",
    "\n",
    "print(largest_of_three(10, 20, 15))\n"
   ]
  },
  {
   "cell_type": "markdown",
   "id": "c1d9d96b",
   "metadata": {},
   "source": [
    "#### Section C: String, List, Dictionary & Tuple Operations (Q31–Q40)"
   ]
  },
  {
   "cell_type": "code",
   "execution_count": 71,
   "id": "34278181",
   "metadata": {},
   "outputs": [
    {
     "name": "stdout",
     "output_type": "stream",
     "text": [
      "apple banana cherry Mango\n"
     ]
    }
   ],
   "source": [
    "# 31. Write a program to sort words in a sentence alphabetically.\n",
    "\n",
    "def sort_words(sentence):\n",
    "    words = sentence.split()\n",
    "    for i in range(len(words)):\n",
    "        for j in range(i + 1, len(words)):\n",
    "            if words[i].lower() > words[j].lower():\n",
    "                words[i], words[j] = words[j], words[i]\n",
    "    return ' '.join(words)\n",
    "\n",
    "print(sort_words(\"banana apple Mango cherry\"))\n"
   ]
  },
  {
   "cell_type": "code",
   "execution_count": 72,
   "id": "6d6cb327",
   "metadata": {},
   "outputs": [
    {
     "name": "stdout",
     "output_type": "stream",
     "text": [
      "Merged dictionary: {'a': 1, 'b': 2, 'c': 3, 'd': 4}\n"
     ]
    }
   ],
   "source": [
    "# Q32. Concatenate two dictionaries and print the result.\n",
    "\n",
    "dict1 = {'a': 1, 'b': 2}\n",
    "dict2 = {'c': 3, 'd': 4}\n",
    "\n",
    "merged = dict1.copy()\n",
    "for key in dict2:\n",
    "    merged[key] = dict2[key]\n",
    "\n",
    "print(\"Merged dictionary:\", merged)\n",
    "\n"
   ]
  },
  {
   "cell_type": "code",
   "execution_count": 73,
   "id": "93ba354b",
   "metadata": {},
   "outputs": [
    {
     "name": "stdout",
     "output_type": "stream",
     "text": [
      "{'This': 1, 'is': 1, 'an': 1, 'awesome': 4, 'day': 1}\n"
     ]
    }
   ],
   "source": [
    "# Q33. Count how many vowels are present in each word of a sentence.\n",
    "\n",
    "def vowels_per_word(sentence):\n",
    "    words = sentence.split()\n",
    "    result = {}\n",
    "    for word in words:\n",
    "        count = sum(1 for char in word if char.lower() in 'aeiou')\n",
    "        result[word] = count\n",
    "    return result\n",
    "\n",
    "print(vowels_per_word(\"This is an awesome day\"))\n"
   ]
  },
  {
   "cell_type": "code",
   "execution_count": 74,
   "id": "defdbc82",
   "metadata": {},
   "outputs": [
    {
     "name": "stdout",
     "output_type": "stream",
     "text": [
      "Converted list: [1, 2, 3, 4, 5]\n"
     ]
    }
   ],
   "source": [
    "#  Q34. Accept a tuple and convert it into a list.\n",
    "\n",
    "input_tuple = (1, 2, 3, 4, 5)\n",
    "converted_list = list(input_tuple)\n",
    "print(\"Converted list:\", converted_list)\n"
   ]
  },
  {
   "cell_type": "code",
   "execution_count": 75,
   "id": "11bbec2f",
   "metadata": {},
   "outputs": [
    {
     "name": "stdout",
     "output_type": "stream",
     "text": [
      "HelloWorld!\n"
     ]
    }
   ],
   "source": [
    "#  Q35. Remove all whitespace from a given string using a function.\n",
    "def remove_whitespace(s):\n",
    "    return ''.join(s.split())\n",
    "\n",
    "print(remove_whitespace(\"   Hello   World  !  \"))\n",
    "\n"
   ]
  },
  {
   "cell_type": "code",
   "execution_count": 76,
   "id": "e7d45ce1",
   "metadata": {},
   "outputs": [
    {
     "name": "stdout",
     "output_type": "stream",
     "text": [
      "Merged Dictionary: {'name': 'Alice', 'age': 25, 'gender': 'Female'}\n"
     ]
    }
   ],
   "source": [
    "# Q36. Merge two lists into a dictionary using one as keys and the other as values.\n",
    "\n",
    "keys = ['name', 'age', 'gender']\n",
    "values = ['Alice', 25, 'Female']\n",
    "\n",
    "merged_dict = {}\n",
    "for i in range(min(len(keys), len(values))):\n",
    "    merged_dict[keys[i]] = values[i]\n",
    "\n",
    "print(\"Merged Dictionary:\", merged_dict)\n"
   ]
  },
  {
   "cell_type": "code",
   "execution_count": 77,
   "id": "57129145",
   "metadata": {},
   "outputs": [
    {
     "name": "stdout",
     "output_type": "stream",
     "text": [
      "Key with max value: b\n"
     ]
    }
   ],
   "source": [
    "# Q37. Write a program to get the key with the maximum value in a dictionary.\n",
    "\n",
    "data = {'a': 10, 'b': 30, 'c': 20}\n",
    "\n",
    "max_key = None\n",
    "max_val = float('-inf')\n",
    "for key, val in data.items():\n",
    "    if val > max_val:\n",
    "        max_val = val\n",
    "        max_key = key\n",
    "\n",
    "print(\"Key with max value:\", max_key)\n"
   ]
  },
  {
   "cell_type": "code",
   "execution_count": 78,
   "id": "190d66b5",
   "metadata": {},
   "outputs": [
    {
     "name": "stdout",
     "output_type": "stream",
     "text": [
      "{'this': 2, 'is': 2, 'a': 2, 'test': 2, 'only': 1}\n"
     ]
    }
   ],
   "source": [
    "# Q38. Accept a string and print a dictionary with word frequencies.\n",
    "\n",
    "def word_frequencies(s):\n",
    "    words = s.split()\n",
    "    freq = {}\n",
    "    for word in words:\n",
    "        freq[word] = freq.get(word, 0) + 1\n",
    "    return freq\n",
    "\n",
    "print(word_frequencies(\"this is a test this is only a test\"))\n"
   ]
  },
  {
   "cell_type": "code",
   "execution_count": 80,
   "id": "49e388b2",
   "metadata": {},
   "outputs": [
    {
     "name": "stdout",
     "output_type": "stream",
     "text": [
      "Key exists.\n"
     ]
    }
   ],
   "source": [
    "# Q39. Write a program to check if a key exists in a dictionary.\n",
    "\n",
    "my_dict = {'name': 'Shiv', 'age': 21}\n",
    "key = input(\"Enter key to check: \")\n",
    "\n",
    "if key in my_dict:\n",
    "    print(\"Key exists.\")\n",
    "else:\n",
    "    print(\"Key does not exist.\")\n"
   ]
  },
  {
   "cell_type": "code",
   "execution_count": 81,
   "id": "d3e14ed3",
   "metadata": {},
   "outputs": [
    {
     "name": "stdout",
     "output_type": "stream",
     "text": [
      "R*pl*c* th* v*w*ls pl**s*.\n"
     ]
    }
   ],
   "source": [
    "# Q40. Write a program to replace all the vowels in a string with '*'.\n",
    "\n",
    "def replace_vowels(s):\n",
    "    return ''.join('*' if char.lower() in 'aeiou' else char for char in s)\n",
    "\n",
    "print(replace_vowels(\"Replace the vowels please.\"))\n"
   ]
  },
  {
   "cell_type": "markdown",
   "id": "27b7b822",
   "metadata": {},
   "source": [
    "#### Section D: File Handling (Q41–Q45)"
   ]
  },
  {
   "cell_type": "code",
   "execution_count": null,
   "id": "e9492f78",
   "metadata": {},
   "outputs": [],
   "source": [
    "# Q41. Write a Python program to read the contents of a file and display it.\n",
    "\n",
    "filename = input(\"Enter filename to read: \")\n",
    "\n",
    "try:\n",
    "    with open(filename, 'r') as file:\n",
    "        content = file.read()\n",
    "        print(\"File Contents:\\n\", content)\n",
    "except FileNotFoundError:\n",
    "    print(\"File not found.\")\n"
   ]
  },
  {
   "cell_type": "code",
   "execution_count": null,
   "id": "97f00978",
   "metadata": {},
   "outputs": [],
   "source": [
    "# Q42. Count the number of words in a file.\n",
    "\n",
    "filename = input(\"Enter filename to count words: \")\n",
    "\n",
    "try:\n",
    "    with open(filename, 'r') as file:\n",
    "        content = file.read()\n",
    "        words = content.split()\n",
    "        print(\"Total words:\", len(words))\n",
    "except FileNotFoundError:\n",
    "    print(\"File not found.\")\n"
   ]
  },
  {
   "cell_type": "code",
   "execution_count": null,
   "id": "d1aaf3bf",
   "metadata": {},
   "outputs": [],
   "source": [
    "# Q43. Copy contents of one file to another.\n",
    "\n",
    "source = input(\"Enter source filename: \")\n",
    "destination = input(\"Enter destination filename: \")\n",
    "\n",
    "try:\n",
    "    with open(source, 'r') as src_file:\n",
    "        data = src_file.read()\n",
    "\n",
    "    with open(destination, 'w') as dest_file:\n",
    "        dest_file.write(data)\n",
    "\n",
    "    print(\"File copied successfully.\")\n",
    "except FileNotFoundError:\n",
    "    print(\"Source file not found.\")\n"
   ]
  },
  {
   "cell_type": "code",
   "execution_count": null,
   "id": "35b5034f",
   "metadata": {},
   "outputs": [],
   "source": [
    "# Q44. Print only the lines that have more than 50 characters from a text file.\n",
    "\n",
    "filename = input(\"Enter filename: \")\n",
    "\n",
    "try:\n",
    "    with open(filename, 'r') as file:\n",
    "        for line in file:\n",
    "            if len(line.strip()) > 50:\n",
    "                print(line.strip())\n",
    "except FileNotFoundError:\n",
    "    print(\"File not found.\")\n"
   ]
  },
  {
   "cell_type": "code",
   "execution_count": null,
   "id": "b0c0450a",
   "metadata": {},
   "outputs": [],
   "source": [
    "# Q45. Write a program to write a list of strings into a text file (one string per line).\n",
    "\n",
    "lines = [\"First line\", \"Second line\", \"Third line\"]\n",
    "filename = \"output.txt\"\n",
    "\n",
    "with open(filename, 'w') as file:\n",
    "    for line in lines:\n",
    "        file.write(line + '\\n')\n",
    "\n",
    "print(\"Data written to\", filename)\n"
   ]
  },
  {
   "cell_type": "markdown",
   "id": "7d7a2e54",
   "metadata": {},
   "source": [
    "#### Section E: Exception Handling (Q46–Q50)"
   ]
  },
  {
   "cell_type": "code",
   "execution_count": null,
   "id": "451a321f",
   "metadata": {},
   "outputs": [],
   "source": [
    "# Q46. Write a program to take two numbers as input and handle division by zero.\n",
    "\n",
    "try:\n",
    "    a = int(input(\"Enter numerator: \"))\n",
    "    b = int(input(\"Enter denominator: \"))\n",
    "    result = a / b\n",
    "    print(\"Result:\", result)\n",
    "except ZeroDivisionError:\n",
    "    print(\"Error: Division by zero is not allowed.\")\n"
   ]
  },
  {
   "cell_type": "code",
   "execution_count": null,
   "id": "af38eec8",
   "metadata": {},
   "outputs": [],
   "source": [
    "# Q47. Handle invalid user input (e.g., entering a string when a number is expected).\n",
    "\n",
    "try:\n",
    "    num = int(input(\"Enter a number: \"))\n",
    "    print(\"You entered:\", num)\n",
    "except ValueError:\n",
    "    print(\"Invalid input! Please enter a valid number.\")\n"
   ]
  },
  {
   "cell_type": "code",
   "execution_count": null,
   "id": "d1607bf9",
   "metadata": {},
   "outputs": [],
   "source": [
    "# Q48. Try to open a file that doesn’t exist and handle the FileNotFoundError.\n",
    "\n",
    "filename = \"non_existing_file.txt\"\n",
    "\n",
    "try:\n",
    "    with open(filename, 'r') as file:\n",
    "        print(file.read())\n",
    "except FileNotFoundError:\n",
    "    print(\"Error: File does not exist.\")\n"
   ]
  },
  {
   "cell_type": "code",
   "execution_count": null,
   "id": "e4b7b8d5",
   "metadata": {},
   "outputs": [],
   "source": [
    "# Q49. Create a list of numbers and try accessing an invalid index. Handle the exception gracefully.\n",
    "\n",
    "numbers = [10, 20, 30, 40, 50]\n",
    "\n",
    "try:\n",
    "    index = int(input(\"Enter index to access: \"))\n",
    "    print(\"Value:\", numbers[index])\n",
    "except IndexError:\n",
    "    print(\"Index out of range.\")\n"
   ]
  },
  {
   "cell_type": "code",
   "execution_count": null,
   "id": "36d7dee9",
   "metadata": {},
   "outputs": [],
   "source": [
    "# Q50. Use a try-except-finally block to demonstrate the execution of the finally clause.\n",
    "\n",
    "try:\n",
    "    x = int(input(\"Enter a number: \"))\n",
    "    y = int(input(\"Enter another number: \"))\n",
    "    print(\"Result:\", x / y)\n",
    "except ZeroDivisionError:\n",
    "    print(\"Division by zero error.\")\n",
    "finally:\n",
    "    print(\"This block always executes (finally).\")\n"
   ]
  },
  {
   "cell_type": "code",
   "execution_count": null,
   "id": "5e118e5c",
   "metadata": {},
   "outputs": [],
   "source": []
  }
 ],
 "metadata": {
  "kernelspec": {
   "display_name": "Python 3",
   "language": "python",
   "name": "python3"
  },
  "language_info": {
   "codemirror_mode": {
    "name": "ipython",
    "version": 3
   },
   "file_extension": ".py",
   "mimetype": "text/x-python",
   "name": "python",
   "nbconvert_exporter": "python",
   "pygments_lexer": "ipython3",
   "version": "3.13.5"
  }
 },
 "nbformat": 4,
 "nbformat_minor": 5
}
